{
 "cells": [
  {
   "cell_type": "markdown",
   "metadata": {},
   "source": [
    "# CMOR 350 HW 7 Question 2 Part B\n",
    "The goal is to find the occupancy times of this rate matrix, in order to calculate the amount of time Machine 1 is blocked in the first hour of operation.\n",
    "\n",
    "Here's the rate matrix."
   ]
  },
  {
   "cell_type": "code",
   "execution_count": 102,
   "metadata": {},
   "outputs": [
    {
     "data": {
      "text/plain": [
       "[[0, 1.0, 0, 0, 0, 0, 0, 0],\n",
       " [0, 0, 1.0, 0, 0, 0.8333333333333334, 0, 0],\n",
       " [0, 0, 0, 0.8333333333333334, 0, 0, 0, 0],\n",
       " [0, 0, 1.0, 0, 0.8333333333333334, 0, 0, 1.0],\n",
       " [0, 0, 0, 0, 0, 1.0, 1.0, 0],\n",
       " [1.0, 0, 0, 1.0, 0, 0, 0, 0],\n",
       " [0, 0, 0, 1.0, 0, 0, 0, 0],\n",
       " [0, 0, 1.0, 0, 0, 0, 0.8333333333333334, 0]]"
      ]
     },
     "execution_count": 102,
     "metadata": {},
     "output_type": "execute_result"
    }
   ],
   "source": [
    "mu1 = 1/1\n",
    "mu2 = 1/1.2\n",
    "mu3 = 1/1\n",
    "\n",
    "r_matrix = [\n",
    "    #1,     2,       3,      4,     5,      6,      7,      #8\n",
    "    [0,     mu1,     0,     0,      0,      0,      0,      0],     #1\n",
    "    [0,     0,       mu1,   0,      0,      mu2,    0,      0],     #2\n",
    "    [0,     0,       0,     mu2,    0,      0,      0,      0],     #3 B,W,I\n",
    "    [0,     0,       mu3,   0,      mu2,    0,      0,      mu1],   #4\n",
    "    [0,     0,       0,     0,      0,      mu3,    mu1,    0],     #5 \n",
    "    [mu3,   0,       0,     mu1,    0,      0,      0,      0],     #6 W,I,W\n",
    "    [0,     0,       0,     mu3,    0,      0,      0,      0],     #7 B,B,W\n",
    "    [0,     0,       mu3,   0,      0,      0,      mu2,    0],     #8 B,W,W\n",
    "]\n",
    "r_matrix"
   ]
  },
  {
   "cell_type": "code",
   "execution_count": 103,
   "metadata": {},
   "outputs": [
    {
     "name": "stdout",
     "output_type": "stream",
     "text": [
      "1.0\n",
      "1.8333333333333335\n",
      "0.8333333333333334\n",
      "2.8333333333333335\n",
      "2.0\n",
      "2.0\n",
      "1.0\n",
      "1.8333333333333335\n"
     ]
    }
   ],
   "source": [
    "for row in r_matrix:\n",
    "    print(sum(row))"
   ]
  },
  {
   "cell_type": "code",
   "execution_count": 104,
   "metadata": {},
   "outputs": [
    {
     "data": {
      "text/plain": [
       "([1.0,\n",
       "  1.8333333333333335,\n",
       "  0.8333333333333334,\n",
       "  2.8333333333333335,\n",
       "  2.0,\n",
       "  2.0,\n",
       "  1.0,\n",
       "  1.8333333333333335],\n",
       " 2.8333333333333335)"
      ]
     },
     "execution_count": 104,
     "metadata": {},
     "output_type": "execute_result"
    }
   ],
   "source": [
    "row_sum = []\n",
    "for row in r_matrix:\n",
    "    row_sum.append(sum(row))\n",
    "nu = max(row_sum)\n",
    "row_sum, nu"
   ]
  },
  {
   "cell_type": "code",
   "execution_count": 105,
   "metadata": {},
   "outputs": [
    {
     "data": {
      "text/plain": [
       "[[0.0, 0.3529411764705882, 0.0, 0.0, 0.0, 0.0, 0.0, 0.0],\n",
       " [0.0, 0.0, 0.3529411764705882, 0.0, 0.0, 0.29411764705882354, 0.0, 0.0],\n",
       " [0.0, 0.0, 0.0, 0.29411764705882354, 0.0, 0.0, 0.0, 0.0],\n",
       " [0.0,\n",
       "  0.0,\n",
       "  0.3529411764705882,\n",
       "  0.0,\n",
       "  0.29411764705882354,\n",
       "  0.0,\n",
       "  0.0,\n",
       "  0.3529411764705882],\n",
       " [0.0, 0.0, 0.0, 0.0, 0.0, 0.3529411764705882, 0.3529411764705882, 0.0],\n",
       " [0.3529411764705882, 0.0, 0.0, 0.3529411764705882, 0.0, 0.0, 0.0, 0.0],\n",
       " [0.0, 0.0, 0.0, 0.3529411764705882, 0.0, 0.0, 0.0, 0.0],\n",
       " [0.0, 0.0, 0.3529411764705882, 0.0, 0.0, 0.0, 0.29411764705882354, 0.0]]"
      ]
     },
     "execution_count": 105,
     "metadata": {},
     "output_type": "execute_result"
    }
   ],
   "source": [
    "p_hat = []\n",
    "for row in r_matrix:\n",
    "    p_hat.append([x / nu for x in row])\n",
    "p_hat"
   ]
  },
  {
   "cell_type": "code",
   "execution_count": 106,
   "metadata": {},
   "outputs": [
    {
     "name": "stdout",
     "output_type": "stream",
     "text": [
      "0.3529411764705882\n",
      "0.6470588235294117\n",
      "0.29411764705882354\n",
      "0.9999999999999999\n",
      "0.7058823529411764\n",
      "0.7058823529411764\n",
      "0.3529411764705882\n",
      "0.6470588235294117\n"
     ]
    }
   ],
   "source": [
    "for row in p_hat:\n",
    "    print(sum(row))"
   ]
  },
  {
   "cell_type": "code",
   "execution_count": 107,
   "metadata": {},
   "outputs": [
    {
     "data": {
      "text/plain": [
       "[[0.6470588235294118, 0.3529411764705882, 0.0, 0.0, 0.0, 0.0, 0.0, 0.0],\n",
       " [0.0,\n",
       "  0.3529411764705883,\n",
       "  0.3529411764705882,\n",
       "  0.0,\n",
       "  0.0,\n",
       "  0.29411764705882354,\n",
       "  0.0,\n",
       "  0.0],\n",
       " [0.0, 0.0, 0.7058823529411764, 0.29411764705882354, 0.0, 0.0, 0.0, 0.0],\n",
       " [0.0,\n",
       "  0.0,\n",
       "  0.3529411764705882,\n",
       "  1.1102230246251565e-16,\n",
       "  0.29411764705882354,\n",
       "  0.0,\n",
       "  0.0,\n",
       "  0.3529411764705882],\n",
       " [0.0,\n",
       "  0.0,\n",
       "  0.0,\n",
       "  0.0,\n",
       "  0.2941176470588236,\n",
       "  0.3529411764705882,\n",
       "  0.3529411764705882,\n",
       "  0.0],\n",
       " [0.3529411764705882,\n",
       "  0.0,\n",
       "  0.0,\n",
       "  0.3529411764705882,\n",
       "  0.0,\n",
       "  0.2941176470588236,\n",
       "  0.0,\n",
       "  0.0],\n",
       " [0.0, 0.0, 0.0, 0.3529411764705882, 0.0, 0.0, 0.6470588235294118, 0.0],\n",
       " [0.0,\n",
       "  0.0,\n",
       "  0.3529411764705882,\n",
       "  0.0,\n",
       "  0.0,\n",
       "  0.0,\n",
       "  0.29411764705882354,\n",
       "  0.3529411764705883]]"
      ]
     },
     "execution_count": 107,
     "metadata": {},
     "output_type": "execute_result"
    }
   ],
   "source": [
    "for i in range(len(p_hat)):\n",
    "    p_hat[i][i] = 1 - sum(p_hat[i])\n",
    "p_hat"
   ]
  },
  {
   "cell_type": "code",
   "execution_count": 108,
   "metadata": {},
   "outputs": [
    {
     "name": "stdout",
     "output_type": "stream",
     "text": [
      "1.0\n",
      "1.0\n",
      "1.0\n",
      "1.0\n",
      "1.0\n",
      "1.0\n",
      "1.0\n",
      "1.0\n"
     ]
    }
   ],
   "source": [
    "for row in p_hat:\n",
    "    print(sum(row))"
   ]
  },
  {
   "cell_type": "markdown",
   "metadata": {},
   "source": [
    "### $\\hat P$ Is Now Created\n",
    "\n",
    "Now we want \n",
    "$$\\begin{align}\n",
    "M(T)&=\\sum_{k=0}^\\infin\\frac{1}{\\nu}P(Y>k)\\hat{P}^k\\\\\n",
    "&=\\sum_{k=0}^\\infin\\frac{1}{\\nu}(1-\\sum_{l=0}^ke^{-\\nu T}\\frac{(\\nu T)^l}{l!}))\\hat{P}^k\n",
    "\\end{align}$$\n",
    "To get the Occupancy matrix for the first hour of operations.\n",
    "\n",
    "Note - $\\infin$ is too large, so we can approximate it with \n",
    "$$max(\\nu t + 5\\sqrt{\\nu t},20)$$\n",
    "\n",
    "$$M(T) = \\sum_{k=0}^{max(\\nu t + 5\\sqrt{\\nu t},20)}\\frac{1}{\\nu}(1-\\sum_{l=0}^ke^{-\\nu T}\\frac{(\\nu T)^l}{l!}))\\hat{P}^k$$\n",
    "\n",
    "\n",
    "### Note; units\n",
    "Our $\\mu_i$ are given in terms of minutes, but we are asked about the first hour. Thus, we'll be sure to look at `M(60)`\n",
    "\n"
   ]
  },
  {
   "cell_type": "code",
   "execution_count": 109,
   "metadata": {},
   "outputs": [
    {
     "data": {
      "text/plain": [
       "array([[6.47058824e-01, 3.52941176e-01, 0.00000000e+00, 0.00000000e+00,\n",
       "        0.00000000e+00, 0.00000000e+00, 0.00000000e+00, 0.00000000e+00],\n",
       "       [0.00000000e+00, 3.52941176e-01, 3.52941176e-01, 0.00000000e+00,\n",
       "        0.00000000e+00, 2.94117647e-01, 0.00000000e+00, 0.00000000e+00],\n",
       "       [0.00000000e+00, 0.00000000e+00, 7.05882353e-01, 2.94117647e-01,\n",
       "        0.00000000e+00, 0.00000000e+00, 0.00000000e+00, 0.00000000e+00],\n",
       "       [0.00000000e+00, 0.00000000e+00, 3.52941176e-01, 1.11022302e-16,\n",
       "        2.94117647e-01, 0.00000000e+00, 0.00000000e+00, 3.52941176e-01],\n",
       "       [0.00000000e+00, 0.00000000e+00, 0.00000000e+00, 0.00000000e+00,\n",
       "        2.94117647e-01, 3.52941176e-01, 3.52941176e-01, 0.00000000e+00],\n",
       "       [3.52941176e-01, 0.00000000e+00, 0.00000000e+00, 3.52941176e-01,\n",
       "        0.00000000e+00, 2.94117647e-01, 0.00000000e+00, 0.00000000e+00],\n",
       "       [0.00000000e+00, 0.00000000e+00, 0.00000000e+00, 3.52941176e-01,\n",
       "        0.00000000e+00, 0.00000000e+00, 6.47058824e-01, 0.00000000e+00],\n",
       "       [0.00000000e+00, 0.00000000e+00, 3.52941176e-01, 0.00000000e+00,\n",
       "        0.00000000e+00, 0.00000000e+00, 2.94117647e-01, 3.52941176e-01]])"
      ]
     },
     "execution_count": 109,
     "metadata": {},
     "output_type": "execute_result"
    }
   ],
   "source": [
    "import numpy as np\n",
    "\n",
    "p_hat=np.array(p_hat)\n",
    "\n",
    "p_hat"
   ]
  },
  {
   "cell_type": "code",
   "execution_count": 110,
   "metadata": {},
   "outputs": [
    {
     "name": "stdout",
     "output_type": "stream",
     "text": [
      "235\n"
     ]
    },
    {
     "ename": "OverflowError",
     "evalue": "(34, 'Result too large')",
     "output_type": "error",
     "traceback": [
      "\u001b[0;31m---------------------------------------------------------------------------\u001b[0m",
      "\u001b[0;31mOverflowError\u001b[0m                             Traceback (most recent call last)",
      "Cell \u001b[0;32mIn[110], line 13\u001b[0m\n\u001b[1;32m     10\u001b[0m     \u001b[38;5;28;01mreturn\u001b[39;00m total\n\u001b[1;32m     12\u001b[0m \u001b[38;5;66;03m# Distribution of the first 60 min\u001b[39;00m\n\u001b[0;32m---> 13\u001b[0m occupancy_matrix_60min \u001b[38;5;241m=\u001b[39m \u001b[43mcalculate_M\u001b[49m\u001b[43m(\u001b[49m\u001b[38;5;241;43m60\u001b[39;49m\u001b[43m,\u001b[49m\u001b[43m \u001b[49m\u001b[43mnu\u001b[49m\u001b[43m,\u001b[49m\u001b[43m \u001b[49m\u001b[43mp_hat\u001b[49m\u001b[43m)\u001b[49m\n\u001b[1;32m     14\u001b[0m occupancy_matrix_60min\n",
      "Cell \u001b[0;32mIn[110], line 8\u001b[0m, in \u001b[0;36mcalculate_M\u001b[0;34m(T, nu, P_hat)\u001b[0m\n\u001b[1;32m      6\u001b[0m total \u001b[38;5;241m=\u001b[39m \u001b[38;5;241m0\u001b[39m\n\u001b[1;32m      7\u001b[0m \u001b[38;5;28;01mfor\u001b[39;00m k \u001b[38;5;129;01min\u001b[39;00m \u001b[38;5;28mrange\u001b[39m(max_k):\n\u001b[0;32m----> 8\u001b[0m     inner_sum \u001b[38;5;241m=\u001b[39m \u001b[38;5;28;43msum\u001b[39;49m\u001b[43m(\u001b[49m\u001b[43mmath\u001b[49m\u001b[38;5;241;43m.\u001b[39;49m\u001b[43mexp\u001b[49m\u001b[43m(\u001b[49m\u001b[38;5;241;43m-\u001b[39;49m\u001b[43mnu\u001b[49m\u001b[43m \u001b[49m\u001b[38;5;241;43m*\u001b[39;49m\u001b[43m \u001b[49m\u001b[43mT\u001b[49m\u001b[43m)\u001b[49m\u001b[43m \u001b[49m\u001b[38;5;241;43m*\u001b[39;49m\u001b[43m \u001b[49m\u001b[43m(\u001b[49m\u001b[43m(\u001b[49m\u001b[43mnu\u001b[49m\u001b[43m \u001b[49m\u001b[38;5;241;43m*\u001b[39;49m\u001b[43m \u001b[49m\u001b[43mT\u001b[49m\u001b[43m)\u001b[49m\u001b[43m \u001b[49m\u001b[38;5;241;43m*\u001b[39;49m\u001b[38;5;241;43m*\u001b[39;49m\u001b[43m \u001b[49m\u001b[43ml\u001b[49m\u001b[43m)\u001b[49m\u001b[43m \u001b[49m\u001b[38;5;241;43m/\u001b[39;49m\u001b[43m \u001b[49m\u001b[43mmath\u001b[49m\u001b[38;5;241;43m.\u001b[39;49m\u001b[43mfactorial\u001b[49m\u001b[43m(\u001b[49m\u001b[43ml\u001b[49m\u001b[43m)\u001b[49m\u001b[43m \u001b[49m\u001b[38;5;28;43;01mfor\u001b[39;49;00m\u001b[43m \u001b[49m\u001b[43ml\u001b[49m\u001b[43m \u001b[49m\u001b[38;5;129;43;01min\u001b[39;49;00m\u001b[43m \u001b[49m\u001b[38;5;28;43mrange\u001b[39;49m\u001b[43m(\u001b[49m\u001b[43mk\u001b[49m\u001b[43m \u001b[49m\u001b[38;5;241;43m+\u001b[39;49m\u001b[43m \u001b[49m\u001b[38;5;241;43m1\u001b[39;49m\u001b[43m)\u001b[49m\u001b[43m)\u001b[49m\n\u001b[1;32m      9\u001b[0m     total \u001b[38;5;241m+\u001b[39m\u001b[38;5;241m=\u001b[39m (\u001b[38;5;241m1\u001b[39m \u001b[38;5;241m/\u001b[39m nu) \u001b[38;5;241m*\u001b[39m (\u001b[38;5;241m1\u001b[39m \u001b[38;5;241m-\u001b[39m inner_sum) \u001b[38;5;241m*\u001b[39m np\u001b[38;5;241m.\u001b[39mlinalg\u001b[38;5;241m.\u001b[39mmatrix_power(P_hat, k)\n\u001b[1;32m     10\u001b[0m \u001b[38;5;28;01mreturn\u001b[39;00m total\n",
      "Cell \u001b[0;32mIn[110], line 8\u001b[0m, in \u001b[0;36m<genexpr>\u001b[0;34m(.0)\u001b[0m\n\u001b[1;32m      6\u001b[0m total \u001b[38;5;241m=\u001b[39m \u001b[38;5;241m0\u001b[39m\n\u001b[1;32m      7\u001b[0m \u001b[38;5;28;01mfor\u001b[39;00m k \u001b[38;5;129;01min\u001b[39;00m \u001b[38;5;28mrange\u001b[39m(max_k):\n\u001b[0;32m----> 8\u001b[0m     inner_sum \u001b[38;5;241m=\u001b[39m \u001b[38;5;28msum\u001b[39m(math\u001b[38;5;241m.\u001b[39mexp(\u001b[38;5;241m-\u001b[39mnu \u001b[38;5;241m*\u001b[39m T) \u001b[38;5;241m*\u001b[39m (\u001b[43m(\u001b[49m\u001b[43mnu\u001b[49m\u001b[43m \u001b[49m\u001b[38;5;241;43m*\u001b[39;49m\u001b[43m \u001b[49m\u001b[43mT\u001b[49m\u001b[43m)\u001b[49m\u001b[43m \u001b[49m\u001b[38;5;241;43m*\u001b[39;49m\u001b[38;5;241;43m*\u001b[39;49m\u001b[43m \u001b[49m\u001b[43ml\u001b[49m) \u001b[38;5;241m/\u001b[39m math\u001b[38;5;241m.\u001b[39mfactorial(l) \u001b[38;5;28;01mfor\u001b[39;00m l \u001b[38;5;129;01min\u001b[39;00m \u001b[38;5;28mrange\u001b[39m(k \u001b[38;5;241m+\u001b[39m \u001b[38;5;241m1\u001b[39m))\n\u001b[1;32m      9\u001b[0m     total \u001b[38;5;241m+\u001b[39m\u001b[38;5;241m=\u001b[39m (\u001b[38;5;241m1\u001b[39m \u001b[38;5;241m/\u001b[39m nu) \u001b[38;5;241m*\u001b[39m (\u001b[38;5;241m1\u001b[39m \u001b[38;5;241m-\u001b[39m inner_sum) \u001b[38;5;241m*\u001b[39m np\u001b[38;5;241m.\u001b[39mlinalg\u001b[38;5;241m.\u001b[39mmatrix_power(P_hat, k)\n\u001b[1;32m     10\u001b[0m \u001b[38;5;28;01mreturn\u001b[39;00m total\n",
      "\u001b[0;31mOverflowError\u001b[0m: (34, 'Result too large')"
     ]
    }
   ],
   "source": [
    "import math\n",
    "\n",
    "def calculate_M(T, nu, P_hat):\n",
    "    max_k = round(max(nu*T + 5*math.sqrt(nu*T),20))\n",
    "    print(max_k)\n",
    "    total = 0\n",
    "    for k in range(max_k):\n",
    "        inner_sum = sum(math.exp(-nu * T) * ((nu * T) ** l) / math.factorial(l) for l in range(k + 1))\n",
    "        total += (1 / nu) * (1 - inner_sum) * np.linalg.matrix_power(P_hat, k)\n",
    "    return total\n",
    "\n",
    "# Distribution of the first 60 min\n",
    "occupancy_matrix_60min = calculate_M(60, nu, p_hat)\n",
    "occupancy_matrix_60min"
   ]
  },
  {
   "cell_type": "markdown",
   "metadata": {},
   "source": [
    "### Errors in this formulation\n",
    "I got `overflow` errors when I exceeded 140 iterations of the outerloop. e.g., $k\\ge140$ so I had to aproximate $\\infin \\approx 135$"
   ]
  },
  {
   "cell_type": "code",
   "execution_count": 111,
   "metadata": {},
   "outputs": [
    {
     "name": "stdout",
     "output_type": "stream",
     "text": [
      "235\n"
     ]
    },
    {
     "data": {
      "text/plain": [
       "array([[ 3.98884947,  2.16128475, 21.49555701, 10.46371016,  4.32234592,\n",
       "         3.037422  ,  8.87695254,  5.65387697],\n",
       "       [ 3.037422  ,  2.18777885, 21.86146471, 10.64387009,  4.39741255,\n",
       "         3.08599453,  9.03391006,  5.75214602],\n",
       "       [ 2.78901968,  1.50683213, 22.55878961, 10.81343238,  4.4680635 ,\n",
       "         2.83759221,  9.18163478,  5.84463454],\n",
       "       [ 2.84730671,  1.53862506, 21.79787886, 11.02962429,  4.55814347,\n",
       "         2.89587924,  9.36998379,  5.9625574 ],\n",
       "       [ 3.07197674,  1.66117235, 21.26491376, 10.66294585,  4.90536078,\n",
       "         3.12054927,  9.55052909,  5.76255098],\n",
       "       [ 3.39379183,  1.83670785, 21.46376408, 10.65658726,  4.40271137,\n",
       "         3.44236436,  9.04498941,  5.75908266],\n",
       "       [ 2.79873418,  1.51213095, 21.43197115, 10.84946436,  4.48307683,\n",
       "         2.84730671, 10.21302628,  5.86428835],\n",
       "       [ 2.76694126,  1.49478935, 21.84701338, 10.7315415 ,  4.43394231,\n",
       "         2.81551379,  9.56483591,  6.34542134]])"
      ]
     },
     "execution_count": 111,
     "metadata": {},
     "output_type": "execute_result"
    }
   ],
   "source": [
    "import math\n",
    "import numpy as np\n",
    "\n",
    "def calculate_M(T, nu, P_hat):\n",
    "    max_k = round(max(nu*T + 5*math.sqrt(nu*T),20))\n",
    "    print(max_k)\n",
    "    total = 0\n",
    "    for k in range(max_k):\n",
    "        inner_sum = sum(math.exp(-nu * T + l * math.log(nu * T) - math.lgamma(l + 1)) for l in range(k + 1))\n",
    "        total += (1 / nu) * (1 - inner_sum) * np.linalg.matrix_power(P_hat, k)\n",
    "    return total\n",
    "\n",
    "# Distribution of the first 60 min\n",
    "occupancy_matrix_60min = calculate_M(60, nu, p_hat)\n",
    "occupancy_matrix_60min"
   ]
  },
  {
   "cell_type": "markdown",
   "metadata": {},
   "source": [
    "### E[Amount of Time Machine 1 is Blocked]\n",
    "Machine 1 is blocked in state 3,7, and 8.\n",
    "\n",
    "Thus, we are interested in the quanitity $m_{43}(60)+m_{47}(60)+m_{48}(60)$"
   ]
  },
  {
   "cell_type": "code",
   "execution_count": 112,
   "metadata": {},
   "outputs": [
    {
     "data": {
      "text/plain": [
       "(21.797878855208605, 9.369983791057946, 5.962557402341044)"
      ]
     },
     "execution_count": 112,
     "metadata": {},
     "output_type": "execute_result"
    }
   ],
   "source": [
    "# indexis (4,3), (4,7) and (4,8) are the following \n",
    "occupancy_matrix_60min[4-1][3-1], occupancy_matrix_60min[4-1][7-1], occupancy_matrix_60min[4-1][8-1]"
   ]
  },
  {
   "cell_type": "code",
   "execution_count": 113,
   "metadata": {},
   "outputs": [
    {
     "data": {
      "text/plain": [
       "37.13042004860759"
      ]
     },
     "execution_count": 113,
     "metadata": {},
     "output_type": "execute_result"
    }
   ],
   "source": [
    "# The sum is the following\n",
    "occupancy_matrix_60min[4-1][3-1]+occupancy_matrix_60min[4-1][7-1]+occupancy_matrix_60min[4-1][8-1]"
   ]
  },
  {
   "cell_type": "markdown",
   "metadata": {},
   "source": [
    "Thus, in a 60 minute interval, $m_{43}(60)+m_{47}(60)+m_{48}(60)\\approx 37.1$ minutes machine 1 is blocked\n"
   ]
  }
 ],
 "metadata": {
  "kernelspec": {
   "display_name": "Python 3",
   "language": "python",
   "name": "python3"
  },
  "language_info": {
   "codemirror_mode": {
    "name": "ipython",
    "version": 3
   },
   "file_extension": ".py",
   "mimetype": "text/x-python",
   "name": "python",
   "nbconvert_exporter": "python",
   "pygments_lexer": "ipython3",
   "version": "3.9.6"
  }
 },
 "nbformat": 4,
 "nbformat_minor": 2
}
