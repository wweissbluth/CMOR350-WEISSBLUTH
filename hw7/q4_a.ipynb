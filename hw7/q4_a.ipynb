{
 "cells": [
  {
   "cell_type": "markdown",
   "metadata": {},
   "source": [
    "# CMOR 350 HW 7 Question 4 Part A\n",
    "The goal is to find the occupancy times of this rate matrix, in order to calculate the amount of time Machine 1 is blocked in the first hour of operation.\n",
    "\n",
    "Since the engines operate for 200 hrs on average, and they are exponentially distributed and  $\\lambda=\\frac{1}{200}$\n",
    "\n",
    "Here's the rate matrix."
   ]
  },
  {
   "cell_type": "code",
   "execution_count": 15,
   "metadata": {},
   "outputs": [
    {
     "data": {
      "text/plain": [
       "[[0, 0.01, 0.01, 0, 0, 0, 0, 0, 0],\n",
       " [0, 0, 0, 0.005, 0.01, 0, 0, 0, 0],\n",
       " [0, 0, 0, 0, 0.01, 0.005, 0, 0, 0],\n",
       " [0, 0, 0, 0, 0, 0, 0.01, 0, 0],\n",
       " [0, 0, 0, 0, 0, 0, 0.005, 0.005, 0],\n",
       " [0, 0, 0, 0, 0, 0, 0, 0.01, 0],\n",
       " [0, 0, 0, 0, 0, 0, 0, 0, 0.005],\n",
       " [0, 0, 0, 0, 0, 0, 0, 0, 0.005],\n",
       " [0, 0, 0, 0, 0, 0, 0, 0, 0]]"
      ]
     },
     "execution_count": 15,
     "metadata": {},
     "output_type": "execute_result"
    }
   ],
   "source": [
    "l = 1/200\n",
    "\n",
    "r_matrix = [\n",
    "    #1,     2,       3,     4,      5,      6,      7,      8       9\n",
    "    [0,     2*l,     2*l,   0,      0,      0,      0,      0,      0],     #1\n",
    "    [0,     0,       0,     l,      2*l,    0,      0,      0,      0],     #2\n",
    "    [0,     0,       0,     0,      2*l,    l,      0,      0,      0],     #3 \n",
    "    [0,     0,       0,     0,      0,      0,      2*l,    0,      0],     #4\n",
    "    [0,     0,       0,     0,      0,      0,      l,      l,      0],     #5 \n",
    "    [0,     0,       0,     0,      0,      0,      0,      2*l,    0],     #6 \n",
    "    [0,     0,       0,     0,      0,      0,      0,      0,      l],     #7 \n",
    "    [0,     0,       0,     0,      0,      0,      0,      0,      l],     #8 \n",
    "    [0,     0,       0,     0,      0,      0,      0,      0,      0],     #9\n",
    "\n",
    "]\n",
    "r_matrix"
   ]
  },
  {
   "cell_type": "code",
   "execution_count": 16,
   "metadata": {},
   "outputs": [
    {
     "name": "stdout",
     "output_type": "stream",
     "text": [
      "0.02\n",
      "0.015\n",
      "0.015\n",
      "0.01\n",
      "0.01\n",
      "0.01\n",
      "0.005\n",
      "0.005\n",
      "0\n"
     ]
    }
   ],
   "source": [
    "for row in r_matrix:\n",
    "    print(sum(row))"
   ]
  },
  {
   "cell_type": "code",
   "execution_count": 17,
   "metadata": {},
   "outputs": [
    {
     "data": {
      "text/plain": [
       "([0.02, 0.015, 0.015, 0.01, 0.01, 0.01, 0.005, 0.005, 0], 0.02)"
      ]
     },
     "execution_count": 17,
     "metadata": {},
     "output_type": "execute_result"
    }
   ],
   "source": [
    "row_sum = []\n",
    "for row in r_matrix:\n",
    "    row_sum.append(sum(row))\n",
    "nu = max(row_sum)\n",
    "row_sum, nu"
   ]
  },
  {
   "cell_type": "code",
   "execution_count": 18,
   "metadata": {},
   "outputs": [
    {
     "data": {
      "text/plain": [
       "[[0.0, 0.5, 0.5, 0.0, 0.0, 0.0, 0.0, 0.0, 0.0],\n",
       " [0.0, 0.0, 0.0, 0.25, 0.5, 0.0, 0.0, 0.0, 0.0],\n",
       " [0.0, 0.0, 0.0, 0.0, 0.5, 0.25, 0.0, 0.0, 0.0],\n",
       " [0.0, 0.0, 0.0, 0.0, 0.0, 0.0, 0.5, 0.0, 0.0],\n",
       " [0.0, 0.0, 0.0, 0.0, 0.0, 0.0, 0.25, 0.25, 0.0],\n",
       " [0.0, 0.0, 0.0, 0.0, 0.0, 0.0, 0.0, 0.5, 0.0],\n",
       " [0.0, 0.0, 0.0, 0.0, 0.0, 0.0, 0.0, 0.0, 0.25],\n",
       " [0.0, 0.0, 0.0, 0.0, 0.0, 0.0, 0.0, 0.0, 0.25],\n",
       " [0.0, 0.0, 0.0, 0.0, 0.0, 0.0, 0.0, 0.0, 0.0]]"
      ]
     },
     "execution_count": 18,
     "metadata": {},
     "output_type": "execute_result"
    }
   ],
   "source": [
    "p_hat = []\n",
    "for row in r_matrix:\n",
    "    p_hat.append([x / nu for x in row])\n",
    "p_hat"
   ]
  },
  {
   "cell_type": "code",
   "execution_count": 19,
   "metadata": {},
   "outputs": [
    {
     "name": "stdout",
     "output_type": "stream",
     "text": [
      "1.0\n",
      "0.75\n",
      "0.75\n",
      "0.5\n",
      "0.5\n",
      "0.5\n",
      "0.25\n",
      "0.25\n",
      "0.0\n"
     ]
    }
   ],
   "source": [
    "for row in p_hat:\n",
    "    print(sum(row))"
   ]
  },
  {
   "cell_type": "code",
   "execution_count": 20,
   "metadata": {},
   "outputs": [
    {
     "data": {
      "text/plain": [
       "[[0.0, 0.5, 0.5, 0.0, 0.0, 0.0, 0.0, 0.0, 0.0],\n",
       " [0.0, 0.25, 0.0, 0.25, 0.5, 0.0, 0.0, 0.0, 0.0],\n",
       " [0.0, 0.0, 0.25, 0.0, 0.5, 0.25, 0.0, 0.0, 0.0],\n",
       " [0.0, 0.0, 0.0, 0.5, 0.0, 0.0, 0.5, 0.0, 0.0],\n",
       " [0.0, 0.0, 0.0, 0.0, 0.5, 0.0, 0.25, 0.25, 0.0],\n",
       " [0.0, 0.0, 0.0, 0.0, 0.0, 0.5, 0.0, 0.5, 0.0],\n",
       " [0.0, 0.0, 0.0, 0.0, 0.0, 0.0, 0.75, 0.0, 0.25],\n",
       " [0.0, 0.0, 0.0, 0.0, 0.0, 0.0, 0.0, 0.75, 0.25],\n",
       " [0.0, 0.0, 0.0, 0.0, 0.0, 0.0, 0.0, 0.0, 1.0]]"
      ]
     },
     "execution_count": 20,
     "metadata": {},
     "output_type": "execute_result"
    }
   ],
   "source": [
    "for i in range(len(p_hat)):\n",
    "    p_hat[i][i] = 1 - sum(p_hat[i])\n",
    "p_hat"
   ]
  },
  {
   "cell_type": "code",
   "execution_count": 21,
   "metadata": {},
   "outputs": [
    {
     "name": "stdout",
     "output_type": "stream",
     "text": [
      "1.0\n",
      "1.0\n",
      "1.0\n",
      "1.0\n",
      "1.0\n",
      "1.0\n",
      "1.0\n",
      "1.0\n",
      "1.0\n"
     ]
    }
   ],
   "source": [
    "for row in p_hat:\n",
    "    print(sum(row))"
   ]
  },
  {
   "cell_type": "markdown",
   "metadata": {},
   "source": [
    "### $\\hat P$ Is Now Created\n",
    "\n",
    "Now we want \n",
    "$$\\begin{align}\n",
    "M(T)&=\\sum_{k=0}^\\infin\\frac{1}{\\nu}P(Y>k)\\hat{P}^k\\\\\n",
    "&=\\sum_{k=0}^\\infin\\frac{1}{\\nu}(1-\\sum_{l=0}^ke^{-\\nu T}\\frac{(\\nu T)^l}{l!}))\\hat{P}^k\n",
    "\\end{align}$$\n",
    "To get the Occupancy matrix for the first hour of operations.\n",
    "\n",
    "Note - $\\infin$ is too large, so we can approximate it with \n",
    "$$max(\\nu t + 5\\sqrt{\\nu t},20)$$\n",
    "\n",
    "$$M(T) = \\sum_{k=0}^{max(\\nu t + 5\\sqrt{\\nu t},20)}\\frac{1}{\\nu}(1-\\sum_{l=0}^ke^{-\\nu T}\\frac{(\\nu T)^l}{l!}))\\hat{P}^k$$\n",
    "\n",
    "\n",
    "### Note; units\n",
    "Our $\\lambda$ are given in terms of hours, but we are asked about the first 6 hours. Thus, we'll be sure to look at `M(6)`\n",
    "\n"
   ]
  },
  {
   "cell_type": "code",
   "execution_count": 25,
   "metadata": {},
   "outputs": [
    {
     "data": {
      "text/plain": [
       "array([[0.  , 0.5 , 0.5 , 0.  , 0.  , 0.  , 0.  , 0.  , 0.  ],\n",
       "       [0.  , 0.25, 0.  , 0.25, 0.5 , 0.  , 0.  , 0.  , 0.  ],\n",
       "       [0.  , 0.  , 0.25, 0.  , 0.5 , 0.25, 0.  , 0.  , 0.  ],\n",
       "       [0.  , 0.  , 0.  , 0.5 , 0.  , 0.  , 0.5 , 0.  , 0.  ],\n",
       "       [0.  , 0.  , 0.  , 0.  , 0.5 , 0.  , 0.25, 0.25, 0.  ],\n",
       "       [0.  , 0.  , 0.  , 0.  , 0.  , 0.5 , 0.  , 0.5 , 0.  ],\n",
       "       [0.  , 0.  , 0.  , 0.  , 0.  , 0.  , 0.75, 0.  , 0.25],\n",
       "       [0.  , 0.  , 0.  , 0.  , 0.  , 0.  , 0.  , 0.75, 0.25],\n",
       "       [0.  , 0.  , 0.  , 0.  , 0.  , 0.  , 0.  , 0.  , 1.  ]])"
      ]
     },
     "execution_count": 25,
     "metadata": {},
     "output_type": "execute_result"
    }
   ],
   "source": [
    "import numpy as np\n",
    "\n",
    "p_hat=np.array(p_hat)\n",
    "\n",
    "p_hat"
   ]
  },
  {
   "cell_type": "code",
   "execution_count": 26,
   "metadata": {},
   "outputs": [
    {
     "name": "stdout",
     "output_type": "stream",
     "text": [
      "20\n"
     ]
    },
    {
     "data": {
      "text/plain": [
       "array([[5.65397816e+00, 1.67885636e-01, 1.67885636e-01, 1.68284188e-03,\n",
       "        6.73136752e-03, 1.68284188e-03, 7.62943704e-05, 7.62943704e-05,\n",
       "        9.24727016e-07],\n",
       "       [0.00000000e+00, 5.73792098e+00, 0.00000000e+00, 8.56256597e-02,\n",
       "        1.71251319e-01, 0.00000000e+00, 3.44197813e-03, 1.72098907e-03,\n",
       "        3.90719122e-05],\n",
       "       [0.00000000e+00, 0.00000000e+00, 5.73792098e+00, 0.00000000e+00,\n",
       "        1.71251319e-01, 8.56256597e-02, 1.72098907e-03, 3.44197813e-03,\n",
       "        3.90719122e-05],\n",
       "       [0.00000000e+00, 0.00000000e+00, 0.00000000e+00, 5.82354664e+00,\n",
       "        0.00000000e+00, 0.00000000e+00, 1.74693297e-01, 0.00000000e+00,\n",
       "        1.76006098e-03],\n",
       "       [0.00000000e+00, 0.00000000e+00, 0.00000000e+00, 0.00000000e+00,\n",
       "        5.82354664e+00, 0.00000000e+00, 8.73466487e-02, 8.73466487e-02,\n",
       "        1.76006098e-03],\n",
       "       [0.00000000e+00, 0.00000000e+00, 0.00000000e+00, 0.00000000e+00,\n",
       "        0.00000000e+00, 5.82354664e+00, 0.00000000e+00, 1.74693297e-01,\n",
       "        1.76006098e-03],\n",
       "       [0.00000000e+00, 0.00000000e+00, 0.00000000e+00, 0.00000000e+00,\n",
       "        0.00000000e+00, 0.00000000e+00, 5.91089329e+00, 0.00000000e+00,\n",
       "        8.91067097e-02],\n",
       "       [0.00000000e+00, 0.00000000e+00, 0.00000000e+00, 0.00000000e+00,\n",
       "        0.00000000e+00, 0.00000000e+00, 0.00000000e+00, 5.91089329e+00,\n",
       "        8.91067097e-02],\n",
       "       [0.00000000e+00, 0.00000000e+00, 0.00000000e+00, 0.00000000e+00,\n",
       "        0.00000000e+00, 0.00000000e+00, 0.00000000e+00, 0.00000000e+00,\n",
       "        6.00000000e+00]])"
      ]
     },
     "execution_count": 26,
     "metadata": {},
     "output_type": "execute_result"
    }
   ],
   "source": [
    "import math\n",
    "import numpy as np\n",
    "\n",
    "def calculate_M(T, nu, P_hat):\n",
    "    max_k = round(max(nu*T + 5*math.sqrt(nu*T),20))\n",
    "    print(max_k)\n",
    "    total = 0\n",
    "    for k in range(max_k):\n",
    "        inner_sum = sum(math.exp(-nu * T + l * math.log(nu * T) - math.lgamma(l + 1)) for l in range(k + 1))\n",
    "        total += (1 / nu) * (1 - inner_sum) * np.linalg.matrix_power(P_hat, k)\n",
    "    return total\n",
    "\n",
    "# Distribution of the first 60 min\n",
    "occupancy_matrix_60min = calculate_M(6, nu, p_hat)\n",
    "occupancy_matrix_60min"
   ]
  },
  {
   "cell_type": "markdown",
   "metadata": {},
   "source": [
    "### E[Amount of Time plane will crash]\n",
    "State's 4,6,7,8,9 cause the plane to crash\n",
    "\n",
    "Thus, we are interested in the quanitity $m_{14}(6)+m_{15}(6)+m_{16}(6)+m_{17}(6)+m_{18}(6)+m_{19}(6)$"
   ]
  },
  {
   "cell_type": "code",
   "execution_count": 29,
   "metadata": {},
   "outputs": [
    {
     "data": {
      "text/plain": [
       "9.247270163507578e-07"
      ]
     },
     "execution_count": 29,
     "metadata": {},
     "output_type": "execute_result"
    }
   ],
   "source": [
    "# The sum is the following\n",
    "crash_time=occupancy_matrix_60min[1-1][4-1]\n",
    "+occupancy_matrix_60min[1-1][5-1]\n",
    "+occupancy_matrix_60min[1-1][6-1]\n",
    "+occupancy_matrix_60min[1-1][7-1]\n",
    "+occupancy_matrix_60min[1-1][8-1]\n",
    "+occupancy_matrix_60min[1-1][9-1]"
   ]
  },
  {
   "cell_type": "markdown",
   "metadata": {},
   "source": [
    "Thus, in a 6 hour interval, $m_{14}(6)+m_{15}(6)+m_{16}(6)+m_{17}(6)+m_{18}(6)+m_{19}(6)\\approx 9.25\\times10^{-7}$ hours the plane is crashing\n"
   ]
  },
  {
   "cell_type": "code",
   "execution_count": 30,
   "metadata": {},
   "outputs": [
    {
     "data": {
      "text/plain": [
       "0.1009705128607387"
      ]
     },
     "execution_count": 30,
     "metadata": {},
     "output_type": "execute_result"
    }
   ],
   "source": [
    "crash_time*60"
   ]
  },
  {
   "cell_type": "markdown",
   "metadata": {},
   "source": [
    "That's an expectation of about 0.1 minutes on average"
   ]
  },
  {
   "cell_type": "code",
   "execution_count": 31,
   "metadata": {},
   "outputs": [
    {
     "data": {
      "text/plain": [
       "0.00028047364683538527"
      ]
     },
     "execution_count": 31,
     "metadata": {},
     "output_type": "execute_result"
    }
   ],
   "source": [
    "crash_time/6"
   ]
  },
  {
   "cell_type": "markdown",
   "metadata": {},
   "source": [
    "The likelihood that the plane crashes is $\\approx 0.00028= 0.028\\%$"
   ]
  },
  {
   "cell_type": "code",
   "execution_count": 32,
   "metadata": {},
   "outputs": [
    {
     "data": {
      "text/plain": [
       "0.9997195263531646"
      ]
     },
     "execution_count": 32,
     "metadata": {},
     "output_type": "execute_result"
    }
   ],
   "source": [
    "1-crash_time/6"
   ]
  },
  {
   "cell_type": "markdown",
   "metadata": {},
   "source": [
    "The likelihood the plane does not crash is $\\approx 0.9997$"
   ]
  },
  {
   "cell_type": "markdown",
   "metadata": {},
   "source": []
  }
 ],
 "metadata": {
  "kernelspec": {
   "display_name": "Python 3",
   "language": "python",
   "name": "python3"
  },
  "language_info": {
   "codemirror_mode": {
    "name": "ipython",
    "version": 3
   },
   "file_extension": ".py",
   "mimetype": "text/x-python",
   "name": "python",
   "nbconvert_exporter": "python",
   "pygments_lexer": "ipython3",
   "version": "3.9.6"
  }
 },
 "nbformat": 4,
 "nbformat_minor": 2
}
