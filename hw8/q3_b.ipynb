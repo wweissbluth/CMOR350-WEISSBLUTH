{
 "cells": [
  {
   "cell_type": "markdown",
   "metadata": {},
   "source": [
    "# Function to minimize long term cost\n",
    "$$\n",
    "f(c) = rc+\\frac{b*\\lambda}{\\mu}+h\\left[\\frac{\\lambda}{\\mu}+\n",
    "    \\frac{\n",
    "        1}{\n",
    "        \\frac{\n",
    "            \\frac{\n",
    "                \\lambda}{\n",
    "                    c\\mu}!\n",
    "                    }{(\n",
    "                \\frac{\n",
    "                    \\lambda}{\n",
    "                        \\mu})^c}\n",
    "                        \\sum_{i=1}^{c-1}\n",
    "                \\frac{\n",
    "                    (\\frac{\n",
    "                        \\lambda}{\n",
    "                            \\mu})^i\n",
    "                            }{\n",
    "                                i!}\n",
    "                                +\n",
    "                    \\frac{\n",
    "                        1\n",
    "                        }{\n",
    "                            1-\n",
    "                    \\frac{\n",
    "                        \\lambda\n",
    "                        }{\n",
    "                            c\\mu\n",
    "                            }\n",
    "                            }\n",
    "                    \\frac{\n",
    "                        \\frac{\n",
    "                            \\lambda\n",
    "                            }{\n",
    "                                c\\mu\n",
    "                                }\n",
    "                                }{\n",
    "                                    (1-\\frac{\n",
    "                                        \\lambda}{\n",
    "                                            c\\mu})^2}}\n",
    "                                            \\right]\n",
    "$$"
   ]
  },
  {
   "cell_type": "markdown",
   "metadata": {},
   "source": [
    "$$\n",
    "f(c) = 15c+\\frac{5*20}{(1/10)}+\\left[\\frac{20}{(1/10)}+\n",
    "    \\frac{\n",
    "        1}{\n",
    "        \\frac{\n",
    "            \\frac{\n",
    "                20}{\n",
    "                    c(1/10)}!\n",
    "                    }{(\n",
    "                \\frac{\n",
    "                    20}{\n",
    "                        (1/10)})^c}\n",
    "                        \\sum_{i=1}^{c-1}\n",
    "                \\frac{\n",
    "                    (\\frac{\n",
    "                        20}{\n",
    "                            (1/10)})^i\n",
    "                            }{\n",
    "                                i!}\n",
    "                                +\n",
    "                    \\frac{\n",
    "                        1\n",
    "                        }{\n",
    "                            1-\n",
    "                    \\frac{\n",
    "                        20\n",
    "                        }{\n",
    "                            c(1/10)\n",
    "                            }\n",
    "                            }\n",
    "                    \\frac{\n",
    "                        \\frac{\n",
    "                            20\n",
    "                            }{\n",
    "                                c(1/10)\n",
    "                                }\n",
    "                                }{\n",
    "                                    (1-\\frac{\n",
    "                                        20}{\n",
    "                                            c(1/10)})^2}}\n",
    "                                            \\right]\n",
    "$$"
   ]
  },
  {
   "cell_type": "markdown",
   "metadata": {},
   "source": [
    "$$\n",
    "f(c) = 15c + 1000 + \\left( 200 + \\frac{1}{\\left( \\frac{200}{c} \\right)! \\div 200^c \\times \\sum_{i=1}^{c-1} \\frac{200^i}{i!}} + \\frac{1}{1 - \\frac{200}{c}} \\times \\frac{\\frac{200}{c}}{\\left(1 - \\frac{200}{c}\\right)^2} \\right)\n",
    "$$"
   ]
  },
  {
   "cell_type": "code",
   "execution_count": 3,
   "metadata": {},
   "outputs": [
    {
     "ename": "NotImplementedError",
     "evalue": "multiple generators [c, 200**c, factorial(200/c), gamma(1 + 200/c), polygamma(0, 1 + 200/c)]\nNo algorithms are implemented to solve equation 15 + (200/(c**2*(1 - 200/c)**3) + 120000/(c**3*(1 - 200/c)**4) + _Dummy_58*log(200)*factorial(200/c)/200**c + 200*_Dummy_58*gamma(1 + 200/c)*polygamma(0, 1 + 200/c)/(200**c*c**2) - _Dummy_59*factorial(200/c)/200**c)/(200/(c*(1 - 200/c)**3) + _Dummy_58*factorial(200/c)/200**c)**2",
     "output_type": "error",
     "traceback": [
      "\u001b[0;31m---------------------------------------------------------------------------\u001b[0m",
      "\u001b[0;31mNotImplementedError\u001b[0m                       Traceback (most recent call last)",
      "Cell \u001b[0;32mIn[3], line 22\u001b[0m\n\u001b[1;32m     19\u001b[0m df \u001b[38;5;241m=\u001b[39m diff(f, c)\n\u001b[1;32m     21\u001b[0m \u001b[38;5;66;03m# Solve df = 0 for critical points\u001b[39;00m\n\u001b[0;32m---> 22\u001b[0m critical_points \u001b[38;5;241m=\u001b[39m \u001b[43msolve\u001b[49m\u001b[43m(\u001b[49m\u001b[43mdf\u001b[49m\u001b[43m,\u001b[49m\u001b[43m \u001b[49m\u001b[43mc\u001b[49m\u001b[43m)\u001b[49m\n\u001b[1;32m     24\u001b[0m \u001b[38;5;66;03m# Evaluate f at the critical points and find the minimum\u001b[39;00m\n\u001b[1;32m     25\u001b[0m min_value \u001b[38;5;241m=\u001b[39m [f\u001b[38;5;241m.\u001b[39msubs(c, cp)\u001b[38;5;241m.\u001b[39mevalf() \u001b[38;5;28;01mfor\u001b[39;00m cp \u001b[38;5;129;01min\u001b[39;00m critical_points \u001b[38;5;28;01mif\u001b[39;00m cp\u001b[38;5;241m.\u001b[39mis_real \u001b[38;5;129;01mand\u001b[39;00m cp \u001b[38;5;241m>\u001b[39m \u001b[38;5;241m0\u001b[39m]\n",
      "File \u001b[0;32m~/Library/Python/3.9/lib/python/site-packages/sympy/solvers/solvers.py:1145\u001b[0m, in \u001b[0;36msolve\u001b[0;34m(f, *symbols, **flags)\u001b[0m\n\u001b[1;32m   1143\u001b[0m         solution \u001b[38;5;241m=\u001b[39m _solve_undetermined(f[\u001b[38;5;241m0\u001b[39m], symbols, flags)\n\u001b[1;32m   1144\u001b[0m     \u001b[38;5;28;01mif\u001b[39;00m \u001b[38;5;129;01mnot\u001b[39;00m solution:\n\u001b[0;32m-> 1145\u001b[0m         solution \u001b[38;5;241m=\u001b[39m \u001b[43m_solve\u001b[49m\u001b[43m(\u001b[49m\u001b[43mf\u001b[49m\u001b[43m[\u001b[49m\u001b[38;5;241;43m0\u001b[39;49m\u001b[43m]\u001b[49m\u001b[43m,\u001b[49m\u001b[43m \u001b[49m\u001b[38;5;241;43m*\u001b[39;49m\u001b[43msymbols\u001b[49m\u001b[43m,\u001b[49m\u001b[43m \u001b[49m\u001b[38;5;241;43m*\u001b[39;49m\u001b[38;5;241;43m*\u001b[39;49m\u001b[43mflags\u001b[49m\u001b[43m)\u001b[49m\n\u001b[1;32m   1146\u001b[0m \u001b[38;5;28;01melse\u001b[39;00m:\n\u001b[1;32m   1147\u001b[0m     linear, solution \u001b[38;5;241m=\u001b[39m _solve_system(f, symbols, \u001b[38;5;241m*\u001b[39m\u001b[38;5;241m*\u001b[39mflags)\n",
      "File \u001b[0;32m~/Library/Python/3.9/lib/python/site-packages/sympy/solvers/solvers.py:1693\u001b[0m, in \u001b[0;36m_solve\u001b[0;34m(f, *symbols, **flags)\u001b[0m\n\u001b[1;32m   1690\u001b[0m \u001b[38;5;66;03m# ----------- end of fallback ----------------------------\u001b[39;00m\n\u001b[1;32m   1692\u001b[0m \u001b[38;5;28;01mif\u001b[39;00m result \u001b[38;5;129;01mis\u001b[39;00m \u001b[38;5;28;01mFalse\u001b[39;00m:\n\u001b[0;32m-> 1693\u001b[0m     \u001b[38;5;28;01mraise\u001b[39;00m \u001b[38;5;167;01mNotImplementedError\u001b[39;00m(\u001b[38;5;124m'\u001b[39m\u001b[38;5;130;01m\\n\u001b[39;00m\u001b[38;5;124m'\u001b[39m\u001b[38;5;241m.\u001b[39mjoin([msg, not_impl_msg \u001b[38;5;241m%\u001b[39m f]))\n\u001b[1;32m   1695\u001b[0m result \u001b[38;5;241m=\u001b[39m _remove_duplicate_solutions(result)\n\u001b[1;32m   1697\u001b[0m \u001b[38;5;28;01mif\u001b[39;00m flags\u001b[38;5;241m.\u001b[39mget(\u001b[38;5;124m'\u001b[39m\u001b[38;5;124msimplify\u001b[39m\u001b[38;5;124m'\u001b[39m, \u001b[38;5;28;01mTrue\u001b[39;00m):\n",
      "\u001b[0;31mNotImplementedError\u001b[0m: multiple generators [c, 200**c, factorial(200/c), gamma(1 + 200/c), polygamma(0, 1 + 200/c)]\nNo algorithms are implemented to solve equation 15 + (200/(c**2*(1 - 200/c)**3) + 120000/(c**3*(1 - 200/c)**4) + _Dummy_58*log(200)*factorial(200/c)/200**c + 200*_Dummy_58*gamma(1 + 200/c)*polygamma(0, 1 + 200/c)/(200**c*c**2) - _Dummy_59*factorial(200/c)/200**c)/(200/(c*(1 - 200/c)**3) + _Dummy_58*factorial(200/c)/200**c)**2"
     ]
    }
   ],
   "source": [
    "from sympy import symbols, factorial, exp, diff, solve, Sum, oo\n",
    "\n",
    "c, i = symbols('c i', integer=True, positive=True)  # c and i as positive integers\n",
    "\n",
    "# Part of the function outside of the brackets\n",
    "f_outside = 15 * c + 5 * 200\n",
    "\n",
    "# Inside the brackets\n",
    "part1 = 200\n",
    "part2 = (factorial(200 / c))/(200)**c\n",
    "sumterm = Sum((200 ** i) / factorial(i), (i, 1, c - 1))\n",
    "part3 = 1 / (1 - (200 / c))\n",
    "part4 = (200 / c) / ((1 - (200 / c)) ** 2)\n",
    "\n",
    "# Full function f(c)\n",
    "f = f_outside + part1 + 1/(part2* sumterm + part3*part4)\n",
    "\n",
    "# Differentiate f(c) with respect to c\n",
    "df = diff(f, c)\n",
    "\n",
    "# Solve df = 0 for critical points\n",
    "critical_points = solve(df, c)\n",
    "\n",
    "# Evaluate f at the critical points and find the minimum\n",
    "min_value = [f.subs(c, cp).evalf() for cp in critical_points if cp.is_real and cp > 0]\n",
    "min_result = min(min_value) if min_value else \"No minimum found\"\n",
    "\n",
    "print(\"Minimum value:\", min_result)\n"
   ]
  },
  {
   "cell_type": "code",
   "execution_count": 23,
   "metadata": {},
   "outputs": [
    {
     "name": "stdout",
     "output_type": "stream",
     "text": [
      "Minimum value found at c = 8.589127314668598\n",
      "Minimum function value = 2631306117664.71\n"
     ]
    },
    {
     "name": "stderr",
     "output_type": "stream",
     "text": [
      "/var/folders/bh/bs5kljm140s_4k8bp_hzf8n00000gn/T/ipykernel_31500/2499847523.py:7: DeprecationWarning: Conversion of an array with ndim > 0 to a scalar is deprecated, and will error in future. Ensure you extract a single element from your array before performing this operation. (Deprecated NumPy 1.25.)\n",
      "  c = float(c)  # Ensure c is float for calculations\n"
     ]
    }
   ],
   "source": [
    "import numpy as np\n",
    "from scipy.optimize import minimize\n",
    "from scipy.special import factorial, gammainc\n",
    "\n",
    "def f(c):\n",
    "    lam = 200\n",
    "    c = float(c)  # Ensure c is float for calculations\n",
    "\n",
    "    # Calculating the sum term\n",
    "    sum_term = sum(lam**i / factorial(i) for i in range(1, int(c)))\n",
    "    \n",
    "    # Defining the function according to given equation\n",
    "    part1 = 15 * c + 5 * lam\n",
    "    part2 = factorial(lam / c) / lam**c\n",
    "    part3 = sum_term\n",
    "    part4 = 1 / (1 - (lam / c))\n",
    "    part5 = (lam / c) / ((1 - (lam / c)) ** 2)\n",
    "    \n",
    "    return part1 + (part2 + part3 + part4 + part5)\n",
    "\n",
    "# Initial guess for c\n",
    "initial_guess = 8\n",
    "\n",
    "# Minimize the function f(c)\n",
    "result = minimize(f, initial_guess, bounds=[(1, np.inf)])\n",
    "\n",
    "print(\"Minimum value found at c =\", result.x[0])\n",
    "print(\"Minimum function value =\", result.fun)\n"
   ]
  },
  {
   "cell_type": "code",
   "execution_count": 32,
   "metadata": {},
   "outputs": [
    {
     "name": "stdout",
     "output_type": "stream",
     "text": [
      "Minimum value found at c = 10.0\n",
      "Minimum function value = nan\n"
     ]
    },
    {
     "name": "stderr",
     "output_type": "stream",
     "text": [
      "/var/folders/bh/bs5kljm140s_4k8bp_hzf8n00000gn/T/ipykernel_31500/3846653962.py:7: DeprecationWarning: Conversion of an array with ndim > 0 to a scalar is deprecated, and will error in future. Ensure you extract a single element from your array before performing this operation. (Deprecated NumPy 1.25.)\n",
      "  c = float(c)  # Ensure c is float for calculations\n",
      "/var/folders/bh/bs5kljm140s_4k8bp_hzf8n00000gn/T/ipykernel_31500/3846653962.py:18: RuntimeWarning: invalid value encountered in scalar multiply\n",
      "  part2 = 1 / (factorial_term / (lam ** c) * sum_term)\n"
     ]
    }
   ],
   "source": [
    "import numpy as np\n",
    "from scipy.optimize import minimize\n",
    "from scipy.special import factorial, gammainc\n",
    "\n",
    "def f(c):\n",
    "    lam = 200  # lambda value\n",
    "    c = float(c)  # Ensure c is float for calculations\n",
    "\n",
    "    # Calculating the factorial term\n",
    "    factorial_term = factorial(lam / (c * 0.1))\n",
    "    \n",
    "    # Calculating the sum term\n",
    "    sum_term = sum((lam ** i) / factorial(i) for i in range(1, int(c)))\n",
    "\n",
    "    # Defining the function according to given equation\n",
    "    part_outside = 15 * c + 5 * lam\n",
    "    part1 = lam\n",
    "    part2 = 1 / (factorial_term / (lam ** c) * sum_term)\n",
    "    part3 = 1 / (1 - (lam / (c * 0.1)))\n",
    "    part4 = (lam / (c * 0.1)) / ((1 - (lam / (c * 0.1))) ** 2)\n",
    "    \n",
    "    return part_outside + part1 + part2 + part3 + part4\n",
    "\n",
    "# Initial guess for c\n",
    "initial_guess = 10\n",
    "\n",
    "# Minimize the function f(c)\n",
    "result = minimize(f, initial_guess, bounds=[(1, np.inf)], method='L-BFGS-B')\n",
    "\n",
    "print(\"Minimum value found at c =\", result.x[0])\n",
    "print(\"Minimum function value =\", result.fun)"
   ]
  },
  {
   "cell_type": "code",
   "execution_count": 40,
   "metadata": {},
   "outputs": [
    {
     "name": "stderr",
     "output_type": "stream",
     "text": [
      "/var/folders/bh/bs5kljm140s_4k8bp_hzf8n00000gn/T/ipykernel_31500/3906071548.py:7: DeprecationWarning: Conversion of an array with ndim > 0 to a scalar is deprecated, and will error in future. Ensure you extract a single element from your array before performing this operation. (Deprecated NumPy 1.25.)\n",
      "  c = float(c)  # Ensure c is float for calculations\n"
     ]
    },
    {
     "ename": "ValueError",
     "evalue": "cannot convert float NaN to integer",
     "output_type": "error",
     "traceback": [
      "\u001b[0;31m---------------------------------------------------------------------------\u001b[0m",
      "\u001b[0;31mValueError\u001b[0m                                Traceback (most recent call last)",
      "Cell \u001b[0;32mIn[40], line 35\u001b[0m\n\u001b[1;32m     32\u001b[0m initial_guess \u001b[38;5;241m=\u001b[39m \u001b[38;5;241m11\u001b[39m\n\u001b[1;32m     34\u001b[0m \u001b[38;5;66;03m# Minimize the function f(c), with bounds ensuring c stays within a reasonable range\u001b[39;00m\n\u001b[0;32m---> 35\u001b[0m result \u001b[38;5;241m=\u001b[39m \u001b[43mminimize\u001b[49m\u001b[43m(\u001b[49m\u001b[43mf\u001b[49m\u001b[43m,\u001b[49m\u001b[43m \u001b[49m\u001b[43minitial_guess\u001b[49m\u001b[43m,\u001b[49m\u001b[43m \u001b[49m\u001b[43mbounds\u001b[49m\u001b[38;5;241;43m=\u001b[39;49m\u001b[43m[\u001b[49m\u001b[43m(\u001b[49m\u001b[38;5;241;43m1\u001b[39;49m\u001b[43m,\u001b[49m\u001b[43m \u001b[49m\u001b[38;5;241;43m100\u001b[39;49m\u001b[43m)\u001b[49m\u001b[43m]\u001b[49m\u001b[43m,\u001b[49m\u001b[43m \u001b[49m\u001b[43mmethod\u001b[49m\u001b[38;5;241;43m=\u001b[39;49m\u001b[38;5;124;43m'\u001b[39;49m\u001b[38;5;124;43mL-BFGS-B\u001b[39;49m\u001b[38;5;124;43m'\u001b[39;49m\u001b[43m,\u001b[49m\u001b[43m \u001b[49m\u001b[43moptions\u001b[49m\u001b[38;5;241;43m=\u001b[39;49m\u001b[43m{\u001b[49m\u001b[38;5;124;43m'\u001b[39;49m\u001b[38;5;124;43mmaxfun\u001b[39;49m\u001b[38;5;124;43m'\u001b[39;49m\u001b[43m:\u001b[49m\u001b[43m \u001b[49m\u001b[38;5;241;43m10000\u001b[39;49m\u001b[43m}\u001b[49m\u001b[43m)\u001b[49m\n\u001b[1;32m     37\u001b[0m \u001b[38;5;28mprint\u001b[39m(\u001b[38;5;124m\"\u001b[39m\u001b[38;5;124mMinimum value found at c =\u001b[39m\u001b[38;5;124m\"\u001b[39m, result\u001b[38;5;241m.\u001b[39mx[\u001b[38;5;241m0\u001b[39m])\n\u001b[1;32m     38\u001b[0m \u001b[38;5;28mprint\u001b[39m(\u001b[38;5;124m\"\u001b[39m\u001b[38;5;124mMinimum function value =\u001b[39m\u001b[38;5;124m\"\u001b[39m, result\u001b[38;5;241m.\u001b[39mfun)\n",
      "File \u001b[0;32m~/Library/Python/3.9/lib/python/site-packages/scipy/optimize/_minimize.py:713\u001b[0m, in \u001b[0;36mminimize\u001b[0;34m(fun, x0, args, method, jac, hess, hessp, bounds, constraints, tol, callback, options)\u001b[0m\n\u001b[1;32m    710\u001b[0m     res \u001b[38;5;241m=\u001b[39m _minimize_newtoncg(fun, x0, args, jac, hess, hessp, callback,\n\u001b[1;32m    711\u001b[0m                              \u001b[38;5;241m*\u001b[39m\u001b[38;5;241m*\u001b[39moptions)\n\u001b[1;32m    712\u001b[0m \u001b[38;5;28;01melif\u001b[39;00m meth \u001b[38;5;241m==\u001b[39m \u001b[38;5;124m'\u001b[39m\u001b[38;5;124ml-bfgs-b\u001b[39m\u001b[38;5;124m'\u001b[39m:\n\u001b[0;32m--> 713\u001b[0m     res \u001b[38;5;241m=\u001b[39m \u001b[43m_minimize_lbfgsb\u001b[49m\u001b[43m(\u001b[49m\u001b[43mfun\u001b[49m\u001b[43m,\u001b[49m\u001b[43m \u001b[49m\u001b[43mx0\u001b[49m\u001b[43m,\u001b[49m\u001b[43m \u001b[49m\u001b[43margs\u001b[49m\u001b[43m,\u001b[49m\u001b[43m \u001b[49m\u001b[43mjac\u001b[49m\u001b[43m,\u001b[49m\u001b[43m \u001b[49m\u001b[43mbounds\u001b[49m\u001b[43m,\u001b[49m\n\u001b[1;32m    714\u001b[0m \u001b[43m                           \u001b[49m\u001b[43mcallback\u001b[49m\u001b[38;5;241;43m=\u001b[39;49m\u001b[43mcallback\u001b[49m\u001b[43m,\u001b[49m\u001b[43m \u001b[49m\u001b[38;5;241;43m*\u001b[39;49m\u001b[38;5;241;43m*\u001b[39;49m\u001b[43moptions\u001b[49m\u001b[43m)\u001b[49m\n\u001b[1;32m    715\u001b[0m \u001b[38;5;28;01melif\u001b[39;00m meth \u001b[38;5;241m==\u001b[39m \u001b[38;5;124m'\u001b[39m\u001b[38;5;124mtnc\u001b[39m\u001b[38;5;124m'\u001b[39m:\n\u001b[1;32m    716\u001b[0m     res \u001b[38;5;241m=\u001b[39m _minimize_tnc(fun, x0, args, jac, bounds, callback\u001b[38;5;241m=\u001b[39mcallback,\n\u001b[1;32m    717\u001b[0m                         \u001b[38;5;241m*\u001b[39m\u001b[38;5;241m*\u001b[39moptions)\n",
      "File \u001b[0;32m~/Library/Python/3.9/lib/python/site-packages/scipy/optimize/_lbfgsb_py.py:369\u001b[0m, in \u001b[0;36m_minimize_lbfgsb\u001b[0;34m(fun, x0, args, jac, bounds, disp, maxcor, ftol, gtol, eps, maxfun, maxiter, iprint, callback, maxls, finite_diff_rel_step, **unknown_options)\u001b[0m\n\u001b[1;32m    363\u001b[0m task_str \u001b[38;5;241m=\u001b[39m task\u001b[38;5;241m.\u001b[39mtobytes()\n\u001b[1;32m    364\u001b[0m \u001b[38;5;28;01mif\u001b[39;00m task_str\u001b[38;5;241m.\u001b[39mstartswith(\u001b[38;5;124mb\u001b[39m\u001b[38;5;124m'\u001b[39m\u001b[38;5;124mFG\u001b[39m\u001b[38;5;124m'\u001b[39m):\n\u001b[1;32m    365\u001b[0m     \u001b[38;5;66;03m# The minimization routine wants f and g at the current x.\u001b[39;00m\n\u001b[1;32m    366\u001b[0m     \u001b[38;5;66;03m# Note that interruptions due to maxfun are postponed\u001b[39;00m\n\u001b[1;32m    367\u001b[0m     \u001b[38;5;66;03m# until the completion of the current minimization iteration.\u001b[39;00m\n\u001b[1;32m    368\u001b[0m     \u001b[38;5;66;03m# Overwrite f and g:\u001b[39;00m\n\u001b[0;32m--> 369\u001b[0m     f, g \u001b[38;5;241m=\u001b[39m \u001b[43mfunc_and_grad\u001b[49m\u001b[43m(\u001b[49m\u001b[43mx\u001b[49m\u001b[43m)\u001b[49m\n\u001b[1;32m    370\u001b[0m \u001b[38;5;28;01melif\u001b[39;00m task_str\u001b[38;5;241m.\u001b[39mstartswith(\u001b[38;5;124mb\u001b[39m\u001b[38;5;124m'\u001b[39m\u001b[38;5;124mNEW_X\u001b[39m\u001b[38;5;124m'\u001b[39m):\n\u001b[1;32m    371\u001b[0m     \u001b[38;5;66;03m# new iteration\u001b[39;00m\n\u001b[1;32m    372\u001b[0m     n_iterations \u001b[38;5;241m+\u001b[39m\u001b[38;5;241m=\u001b[39m \u001b[38;5;241m1\u001b[39m\n",
      "File \u001b[0;32m~/Library/Python/3.9/lib/python/site-packages/scipy/optimize/_differentiable_functions.py:296\u001b[0m, in \u001b[0;36mScalarFunction.fun_and_grad\u001b[0;34m(self, x)\u001b[0m\n\u001b[1;32m    294\u001b[0m \u001b[38;5;28;01mif\u001b[39;00m \u001b[38;5;129;01mnot\u001b[39;00m np\u001b[38;5;241m.\u001b[39marray_equal(x, \u001b[38;5;28mself\u001b[39m\u001b[38;5;241m.\u001b[39mx):\n\u001b[1;32m    295\u001b[0m     \u001b[38;5;28mself\u001b[39m\u001b[38;5;241m.\u001b[39m_update_x_impl(x)\n\u001b[0;32m--> 296\u001b[0m \u001b[38;5;28;43mself\u001b[39;49m\u001b[38;5;241;43m.\u001b[39;49m\u001b[43m_update_fun\u001b[49m\u001b[43m(\u001b[49m\u001b[43m)\u001b[49m\n\u001b[1;32m    297\u001b[0m \u001b[38;5;28mself\u001b[39m\u001b[38;5;241m.\u001b[39m_update_grad()\n\u001b[1;32m    298\u001b[0m \u001b[38;5;28;01mreturn\u001b[39;00m \u001b[38;5;28mself\u001b[39m\u001b[38;5;241m.\u001b[39mf, \u001b[38;5;28mself\u001b[39m\u001b[38;5;241m.\u001b[39mg\n",
      "File \u001b[0;32m~/Library/Python/3.9/lib/python/site-packages/scipy/optimize/_differentiable_functions.py:262\u001b[0m, in \u001b[0;36mScalarFunction._update_fun\u001b[0;34m(self)\u001b[0m\n\u001b[1;32m    260\u001b[0m \u001b[38;5;28;01mdef\u001b[39;00m \u001b[38;5;21m_update_fun\u001b[39m(\u001b[38;5;28mself\u001b[39m):\n\u001b[1;32m    261\u001b[0m     \u001b[38;5;28;01mif\u001b[39;00m \u001b[38;5;129;01mnot\u001b[39;00m \u001b[38;5;28mself\u001b[39m\u001b[38;5;241m.\u001b[39mf_updated:\n\u001b[0;32m--> 262\u001b[0m         \u001b[38;5;28;43mself\u001b[39;49m\u001b[38;5;241;43m.\u001b[39;49m\u001b[43m_update_fun_impl\u001b[49m\u001b[43m(\u001b[49m\u001b[43m)\u001b[49m\n\u001b[1;32m    263\u001b[0m         \u001b[38;5;28mself\u001b[39m\u001b[38;5;241m.\u001b[39mf_updated \u001b[38;5;241m=\u001b[39m \u001b[38;5;28;01mTrue\u001b[39;00m\n",
      "File \u001b[0;32m~/Library/Python/3.9/lib/python/site-packages/scipy/optimize/_differentiable_functions.py:163\u001b[0m, in \u001b[0;36mScalarFunction.__init__.<locals>.update_fun\u001b[0;34m()\u001b[0m\n\u001b[1;32m    162\u001b[0m \u001b[38;5;28;01mdef\u001b[39;00m \u001b[38;5;21mupdate_fun\u001b[39m():\n\u001b[0;32m--> 163\u001b[0m     \u001b[38;5;28mself\u001b[39m\u001b[38;5;241m.\u001b[39mf \u001b[38;5;241m=\u001b[39m \u001b[43mfun_wrapped\u001b[49m\u001b[43m(\u001b[49m\u001b[38;5;28;43mself\u001b[39;49m\u001b[38;5;241;43m.\u001b[39;49m\u001b[43mx\u001b[49m\u001b[43m)\u001b[49m\n",
      "File \u001b[0;32m~/Library/Python/3.9/lib/python/site-packages/scipy/optimize/_differentiable_functions.py:145\u001b[0m, in \u001b[0;36mScalarFunction.__init__.<locals>.fun_wrapped\u001b[0;34m(x)\u001b[0m\n\u001b[1;32m    141\u001b[0m \u001b[38;5;28mself\u001b[39m\u001b[38;5;241m.\u001b[39mnfev \u001b[38;5;241m+\u001b[39m\u001b[38;5;241m=\u001b[39m \u001b[38;5;241m1\u001b[39m\n\u001b[1;32m    142\u001b[0m \u001b[38;5;66;03m# Send a copy because the user may overwrite it.\u001b[39;00m\n\u001b[1;32m    143\u001b[0m \u001b[38;5;66;03m# Overwriting results in undefined behaviour because\u001b[39;00m\n\u001b[1;32m    144\u001b[0m \u001b[38;5;66;03m# fun(self.x) will change self.x, with the two no longer linked.\u001b[39;00m\n\u001b[0;32m--> 145\u001b[0m fx \u001b[38;5;241m=\u001b[39m \u001b[43mfun\u001b[49m\u001b[43m(\u001b[49m\u001b[43mnp\u001b[49m\u001b[38;5;241;43m.\u001b[39;49m\u001b[43mcopy\u001b[49m\u001b[43m(\u001b[49m\u001b[43mx\u001b[49m\u001b[43m)\u001b[49m\u001b[43m,\u001b[49m\u001b[43m \u001b[49m\u001b[38;5;241;43m*\u001b[39;49m\u001b[43margs\u001b[49m\u001b[43m)\u001b[49m\n\u001b[1;32m    146\u001b[0m \u001b[38;5;66;03m# Make sure the function returns a true scalar\u001b[39;00m\n\u001b[1;32m    147\u001b[0m \u001b[38;5;28;01mif\u001b[39;00m \u001b[38;5;129;01mnot\u001b[39;00m np\u001b[38;5;241m.\u001b[39misscalar(fx):\n",
      "Cell \u001b[0;32mIn[40], line 15\u001b[0m, in \u001b[0;36mf\u001b[0;34m(c)\u001b[0m\n\u001b[1;32m     11\u001b[0m     \u001b[38;5;28;01mreturn\u001b[39;00m np\u001b[38;5;241m.\u001b[39minf\n\u001b[1;32m     13\u001b[0m \u001b[38;5;66;03m# Calculating the factorial term\u001b[39;00m\n\u001b[1;32m     14\u001b[0m \u001b[38;5;66;03m# Safeguard against non-integer factorial arguments\u001b[39;00m\n\u001b[0;32m---> 15\u001b[0m \u001b[38;5;28;01mif\u001b[39;00m lam \u001b[38;5;241m/\u001b[39m (c \u001b[38;5;241m*\u001b[39m \u001b[38;5;241m0.1\u001b[39m) \u001b[38;5;241m<\u001b[39m \u001b[38;5;241m0\u001b[39m \u001b[38;5;129;01mor\u001b[39;00m lam \u001b[38;5;241m/\u001b[39m (c \u001b[38;5;241m*\u001b[39m \u001b[38;5;241m0.1\u001b[39m) \u001b[38;5;241m!=\u001b[39m \u001b[38;5;28;43mint\u001b[39;49m\u001b[43m(\u001b[49m\u001b[43mlam\u001b[49m\u001b[43m \u001b[49m\u001b[38;5;241;43m/\u001b[39;49m\u001b[43m \u001b[49m\u001b[43m(\u001b[49m\u001b[43mc\u001b[49m\u001b[43m \u001b[49m\u001b[38;5;241;43m*\u001b[39;49m\u001b[43m \u001b[49m\u001b[38;5;241;43m0.1\u001b[39;49m\u001b[43m)\u001b[49m\u001b[43m)\u001b[49m:\n\u001b[1;32m     16\u001b[0m     \u001b[38;5;28;01mreturn\u001b[39;00m np\u001b[38;5;241m.\u001b[39minf\n\u001b[1;32m     17\u001b[0m factorial_term \u001b[38;5;241m=\u001b[39m factorial(lam \u001b[38;5;241m/\u001b[39m (c \u001b[38;5;241m*\u001b[39m \u001b[38;5;241m0.1\u001b[39m))\n",
      "\u001b[0;31mValueError\u001b[0m: cannot convert float NaN to integer"
     ]
    }
   ],
   "source": [
    "import numpy as np\n",
    "from scipy.optimize import minimize\n",
    "from scipy.special import factorial, gammainc\n",
    "\n",
    "def f(c):\n",
    "    lam = 200  # lambda value\n",
    "    c = float(c)  # Ensure c is float for calculations\n",
    "\n",
    "    # Ensure c is never too small to avoid division by zero in critical places\n",
    "    if c < 1:\n",
    "        return np.inf\n",
    "\n",
    "    # Calculating the factorial term\n",
    "    # Safeguard against non-integer factorial arguments\n",
    "    if lam / (c * 0.1) < 0 or lam / (c * 0.1) != int(lam / (c * 0.1)):\n",
    "        return np.inf\n",
    "    factorial_term = factorial(lam / (c * 0.1))\n",
    "\n",
    "    # Calculating the sum term\n",
    "    sum_term = sum((lam ** i) / factorial(i) for i in range(1, int(c)))\n",
    "\n",
    "    # Defining the function according to given equation\n",
    "    part_outside = 15 * c + 5 * lam\n",
    "    part1 = lam\n",
    "    part2 = 1 / (factorial_term / (lam ** c) * sum_term) if factorial_term > 0 and sum_term > 0 else np.inf\n",
    "    part3 = 1 / (1 - (lam / (c * 0.1))) if (1 - (lam / (c * 0.1))) != 0 else np.inf\n",
    "    part4 = (lam / (c * 0.1)) / ((1 - (lam / (c * 0.1))) ** 2) if (1 - (lam / (c * 0.1))) != 0 else np.inf\n",
    "    \n",
    "    return part_outside + part1 + part2 + part3 + part4\n",
    "\n",
    "# Initial guess for c, ensuring it's safely away from problematic regions\n",
    "initial_guess = 11\n",
    "\n",
    "# Minimize the function f(c), with bounds ensuring c stays within a reasonable range\n",
    "result = minimize(f, initial_guess, bounds=[(1, 100)], method='L-BFGS-B', options={'maxfun': 10000})\n",
    "\n",
    "print(\"Minimum value found at c =\", result.x[0])\n",
    "print(\"Minimum function value =\", result.fun)\n"
   ]
  },
  {
   "cell_type": "code",
   "execution_count": 7,
   "metadata": {},
   "outputs": [
    {
     "name": "stdout",
     "output_type": "stream",
     "text": [
      "Value: 60.0055338811876, c: 4\n",
      "Value: 75.0524722634895, c: 5\n",
      "Value: 90.1214775496581, c: 6\n",
      "Value: 105.136773060866, c: 7\n",
      "Value: 120.085510102174, c: 8\n"
     ]
    }
   ],
   "source": [
    "from sympy import symbols, factorial, Sum\n",
    "\n",
    "c, i = symbols('c i', integer=True, positive=True)  # c and i as positive integers\n",
    "\n",
    "# Part of the function outside of the brackets\n",
    "f_outside = 15 * c\n",
    "part2 = (factorial(c))/(20/6)**c\n",
    "sumterm = Sum((20/6 ** i) / factorial(i), (i, 1, c - 1))\n",
    "part3 = 1 / (1 - (20 / (6*c)))\n",
    "part4 = (20 / (6*c)) / ((1 - (20 / (6*c))) ** 2)\n",
    "\n",
    "# Full function f(c)\n",
    "f = f_outside + 1/(part2* sumterm + part3*part4)\n",
    "\n",
    "vals_dict = {f.subs(c, val).evalf(): val for val in range(4, 100)}\n",
    "for val, c_val in sorted(vals_dict.items())[:5]:\n",
    "    print(f\"Value: {val}, c: {c_val}\")\n"
   ]
  },
  {
   "cell_type": "code",
   "execution_count": null,
   "metadata": {},
   "outputs": [],
   "source": []
  }
 ],
 "metadata": {
  "kernelspec": {
   "display_name": "Python 3",
   "language": "python",
   "name": "python3"
  },
  "language_info": {
   "codemirror_mode": {
    "name": "ipython",
    "version": 3
   },
   "file_extension": ".py",
   "mimetype": "text/x-python",
   "name": "python",
   "nbconvert_exporter": "python",
   "pygments_lexer": "ipython3",
   "version": "3.9.6"
  }
 },
 "nbformat": 4,
 "nbformat_minor": 2
}
